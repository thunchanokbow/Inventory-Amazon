{
  "nbformat": 4,
  "nbformat_minor": 0,
  "metadata": {
    "colab": {
      "provenance": [],
      "toc_visible": true,
      "authorship_tag": "ABX9TyPcn1hcUzfCmgqIfMPLbMi8",
      "include_colab_link": true
    },
    "kernelspec": {
      "name": "python3",
      "display_name": "Python 3"
    },
    "language_info": {
      "name": "python"
    }
  },
  "cells": [
    {
      "cell_type": "markdown",
      "metadata": {
        "id": "view-in-github",
        "colab_type": "text"
      },
      "source": [
        "<a href=\"https://colab.research.google.com/github/thunchanokbow/Inventory-amazon/blob/main/Inventory2Q2022.ipynb\" target=\"_parent\"><img src=\"https://colab.research.google.com/assets/colab-badge.svg\" alt=\"Open In Colab\"/></a>"
      ]
    },
    {
      "cell_type": "code",
      "metadata": {
        "id": "3SV-YTNRpMKy"
      },
      "source": [
        "!apt-get update\n",
        "!apt-get install openjdk-8-jdk-headless -qq > /dev/null\n",
        "!wget -q https://archive.apache.org/dist/spark/spark-3.1.2/spark-3.1.2-bin-hadoop2.7.tgz\n",
        "!tar xzvf spark-3.1.2-bin-hadoop2.7.tgz\n",
        "!pip install -q findspark==1.3.0"
      ],
      "execution_count": null,
      "outputs": []
    },
    {
      "cell_type": "code",
      "metadata": {
        "id": "qHNIVIS8ygwc"
      },
      "source": [
        "# Install PySpark in python\n",
        "!pip install pyspark==3.1.2"
      ],
      "execution_count": null,
      "outputs": []
    },
    {
      "cell_type": "code",
      "metadata": {
        "id": "6Dwpn8wv9lgO"
      },
      "source": [
        "# Set enviroment variable\n",
        "import os\n",
        "os.environ[\"JAVA_HOME\"] = \"/usr/lib/jvm/java-8-openjdk-amd64\"\n",
        "os.environ[\"SPARK_HOME\"] = \"/content/spark-3.1.2-bin-hadoop2.7\""
      ],
      "execution_count": 3,
      "outputs": []
    },
    {
      "cell_type": "code",
      "metadata": {
        "id": "e6-PYi44nH2e"
      },
      "source": [
        "import pandas as pd\n",
        "# Create a Spark session.\n",
        "from pyspark.sql import SparkSession\n",
        "spark = SparkSession.builder.master(\"local[*]\").getOrCreate()\n",
        "# from pyspark.sql.functions import col\n",
        "import pyspark.sql.functions as f\n",
        "import pyspark.sql.types as T\n",
        "# PostgreSQL connection\n",
        "from sqlalchemy import create_engine\n",
        "from sqlalchemy import inspect\n",
        "import psycopg2\n",
        "import getpass"
      ],
      "execution_count": 4,
      "outputs": []
    },
    {
      "cell_type": "markdown",
      "source": [
        "# Pulling Data from PostgreaSQL database"
      ],
      "metadata": {
        "id": "ihog75L12HAF"
      }
    },
    {
      "cell_type": "code",
      "source": [
        "# Connection to Database PostgreSQL\n",
        "host = \"azure-amazon.postgres.database.azure.com\"\n",
        "port = \"5432\"\n",
        "dbname = \"db-amazon\"\n",
        "user = input(\"user name: \")\n",
        "pwd = getpass.getpass(\"password: \")\n",
        "connection_string = f'postgresql+psycopg2://{user}:{pwd}@{host}:{port}/{dbname}'"
      ],
      "metadata": {
        "id": "552jbLTnaTnn"
      },
      "execution_count": null,
      "outputs": []
    },
    {
      "cell_type": "code",
      "source": [
        "# Get table from Database\n",
        "engine = create_engine(connection_string)\n",
        "insp = inspect(engine)\n",
        "insp.get_table_names()"
      ],
      "metadata": {
        "id": "eQDQC_KclOBU"
      },
      "execution_count": null,
      "outputs": []
    },
    {
      "cell_type": "code",
      "source": [
        "# Query product_price table\n",
        "product_price = spark.sql(\"SELECT * FROM product_price\")\n",
        "# Query sales_report table\n",
        "sales_report = spark.sql(\"SELECT * FROM sales_report\")"
      ],
      "metadata": {
        "id": "7K0roSQ-mCRo"
      },
      "execution_count": null,
      "outputs": []
    },
    {
      "cell_type": "markdown",
      "source": [
        "##Convert the `Amount` column to Integer datatype"
      ],
      "metadata": {
        "id": "cMdNMrnWexCc"
      }
    },
    {
      "cell_type": "code",
      "source": [
        "product_price.printSchema()"
      ],
      "metadata": {
        "colab": {
          "base_uri": "https://localhost:8080/"
        },
        "id": "SW5rqE6Kar4H",
        "outputId": "e80939d5-1313-4cd7-8bb1-304cd0b2163d"
      },
      "execution_count": null,
      "outputs": [
        {
          "output_type": "stream",
          "name": "stdout",
          "text": [
            "root\n",
            " |-- index: integer (nullable = true)\n",
            " |-- sku: string (nullable = true)\n",
            " |-- Design No.: string (nullable = true)\n",
            " |-- Stock: double (nullable = true)\n",
            " |-- Category: string (nullable = true)\n",
            " |-- Size: string (nullable = true)\n",
            " |-- Color: string (nullable = true)\n",
            " |-- Amount: double (nullable = true)\n",
            "\n"
          ]
        }
      ]
    },
    {
      "cell_type": "code",
      "source": [
        "# Convert the Amount column to integer.\n",
        "product_price = product_price.withColumn(\"Amount\", product_price[\"Amount\"].cast(\"Integer\"))\n",
        "product_price.printSchema()\n",
        "product_price.count()"
      ],
      "metadata": {
        "colab": {
          "base_uri": "https://localhost:8080/"
        },
        "id": "ztr1JIPueD8b",
        "outputId": "ac191396-c08c-4f3f-fbb1-cec1e8172c5f"
      },
      "execution_count": null,
      "outputs": [
        {
          "output_type": "stream",
          "name": "stdout",
          "text": [
            "root\n",
            " |-- index: integer (nullable = true)\n",
            " |-- sku: string (nullable = true)\n",
            " |-- Design No.: string (nullable = true)\n",
            " |-- Stock: double (nullable = true)\n",
            " |-- Category: string (nullable = true)\n",
            " |-- Size: string (nullable = true)\n",
            " |-- Color: string (nullable = true)\n",
            " |-- Amount: integer (nullable = true)\n",
            "\n"
          ]
        },
        {
          "output_type": "execute_result",
          "data": {
            "text/plain": [
              "9406"
            ]
          },
          "metadata": {},
          "execution_count": 11
        }
      ]
    },
    {
      "cell_type": "code",
      "source": [
        "sales_report.printSchema()\n",
        "sales_report.count()"
      ],
      "metadata": {
        "colab": {
          "base_uri": "https://localhost:8080/"
        },
        "id": "cA9UXKYKehwj",
        "outputId": "5bd9cf7d-010d-4656-acc7-beb141199d73"
      },
      "execution_count": null,
      "outputs": [
        {
          "output_type": "stream",
          "name": "stdout",
          "text": [
            "root\n",
            " |-- index: integer (nullable = true)\n",
            " |-- Order ID: string (nullable = true)\n",
            " |-- Date: string (nullable = true)\n",
            " |-- Status: string (nullable = true)\n",
            " |-- Sales Channel : string (nullable = true)\n",
            " |-- Style: string (nullable = true)\n",
            " |-- SKU: string (nullable = true)\n",
            " |-- Category: string (nullable = true)\n",
            " |-- Size: string (nullable = true)\n",
            " |-- Qty: integer (nullable = true)\n",
            "\n"
          ]
        },
        {
          "output_type": "execute_result",
          "data": {
            "text/plain": [
              "128975"
            ]
          },
          "metadata": {},
          "execution_count": 9
        }
      ]
    },
    {
      "cell_type": "markdown",
      "source": [
        "#Analyze Best and worst selling SKU items"
      ],
      "metadata": {
        "id": "FYQ1eMLD-nVs"
      }
    },
    {
      "cell_type": "code",
      "source": [
        "# Group the data by SKU and calculate the sum of Qty.\n",
        "best_items = sales_report.groupBy(\"SKU\").sum(\"Qty\")"
      ],
      "metadata": {
        "id": "EpMBa7B5p9P9"
      },
      "execution_count": 7,
      "outputs": []
    },
    {
      "cell_type": "code",
      "source": [
        "# Sort the DataFrame by Qty column in descending order.\n",
        "best_items = best_items.sort(\"sum(Qty)\", ascending=False)\n",
        "best_items.show()"
      ],
      "metadata": {
        "id": "4DH2gZKVvYU8",
        "colab": {
          "base_uri": "https://localhost:8080/"
        },
        "outputId": "27d13343-4a68-4de1-d25f-9f61a50a54dd"
      },
      "execution_count": 8,
      "outputs": [
        {
          "output_type": "stream",
          "name": "stdout",
          "text": [
            "+---------------+--------+\n",
            "|            SKU|sum(Qty)|\n",
            "+---------------+--------+\n",
            "|   JNE3797-KR-L|     661|\n",
            "|   JNE3797-KR-M|     561|\n",
            "|   JNE3797-KR-S|     503|\n",
            "|   JNE3405-KR-L|     485|\n",
            "|    J0230-SKD-M|     468|\n",
            "|    J0230-SKD-S|     421|\n",
            "|  JNE3797-KR-XL|     415|\n",
            "|   JNE3405-KR-S|     399|\n",
            "|  JNE3797-KR-XS|     386|\n",
            "|SET268-KR-NP-XL|     373|\n",
            "| JNE3797-KR-XXL|     359|\n",
            "|JNE3797-KR-XXXL|     353|\n",
            "| SET268-KR-NP-S|     350|\n",
            "| SET268-KR-NP-L|     348|\n",
            "|   JNE3405-KR-M|     344|\n",
            "|   JNE3567-KR-M|     291|\n",
            "| SET183-KR-DH-M|     289|\n",
            "|    J0003-SET-S|     281|\n",
            "|    J0230-SKD-L|     272|\n",
            "| SET324-KR-NP-M|     268|\n",
            "+---------------+--------+\n",
            "only showing top 20 rows\n",
            "\n"
          ]
        }
      ]
    },
    {
      "cell_type": "code",
      "source": [
        "# Sort the DataFrame by Qty column in ascending order.\n",
        "worst_items = best_items.sort(\"sum(Qty)\", descending=False)\n",
        "worst_items.show()"
      ],
      "metadata": {
        "id": "scr0ON6l-qX_",
        "colab": {
          "base_uri": "https://localhost:8080/"
        },
        "outputId": "b92b187a-8d66-44e2-f0e3-95b1dbf90a27"
      },
      "execution_count": null,
      "outputs": [
        {
          "output_type": "stream",
          "name": "stdout",
          "text": [
            "+-----------------+--------+\n",
            "|              SKU|sum(Qty)|\n",
            "+-----------------+--------+\n",
            "|   SET235-KR-PP-S|       0|\n",
            "|      J0086-DR-XL|       0|\n",
            "|      J0162-SKD-M|       0|\n",
            "|    JNE3557-KR-XL|       0|\n",
            "|      BTM046-PP-M|       0|\n",
            "|      J0053-KR-XS|       0|\n",
            "|       J0292-TP-L|       0|\n",
            "|     BTM002-B-XXL|       0|\n",
            "|         BL091-XL|       0|\n",
            "| SET043-KR-NP-XXL|       0|\n",
            "|   J0137-SET-XXXL|       0|\n",
            "|  NW002-TP-PJ-XXL|       0|\n",
            "|  AN204-PURPLE-XL|       0|\n",
            "|    JNE3602-KR-XS|       0|\n",
            "|   SET055-KR-NP-S|       0|\n",
            "| NW032-ST-CP-XXXL|       0|\n",
            "|    JNE3284-KR-XL|       0|\n",
            "|      J0155-KR-XS|       0|\n",
            "|PSET058-KR-NP-6XL|       0|\n",
            "|     JNE3359-KR-L|       0|\n",
            "+-----------------+--------+\n",
            "only showing top 20 rows\n",
            "\n"
          ]
        }
      ]
    },
    {
      "cell_type": "code",
      "source": [
        "sales_report.describe().show()\n",
        "# The dataset covers months 3 to 6"
      ],
      "metadata": {
        "colab": {
          "base_uri": "https://localhost:8080/"
        },
        "id": "MpzT_he4g_9L",
        "outputId": "0a93511b-48d0-4bc3-869c-670a3820e0f0"
      },
      "execution_count": null,
      "outputs": [
        {
          "output_type": "stream",
          "name": "stdout",
          "text": [
            "+-------+------------------+-------------------+--------+---------+--------------+------+--------------+--------+------+-------------------+\n",
            "|summary|             index|           Order ID|    Date|   Status|Sales Channel | Style|           SKU|Category|  Size|                Qty|\n",
            "+-------+------------------+-------------------+--------+---------+--------------+------+--------------+--------+------+-------------------+\n",
            "|  count|            128975|             128975|  128975|   128975|        128975|128975|        128975|  128975|128975|             128975|\n",
            "|   mean|           64487.0|               null|    null|     null|          null|  null|          null|    null|  null| 0.9044310912967629|\n",
            "| stddev|37232.019821653514|               null|    null|     null|          null|  null|          null|    null|  null|0.31335358565014465|\n",
            "|    min|                 0|171-0000547-8192359|03-31-22|Cancelled|     Amazon.in| AN201|   AN201-RED-M|  Blouse|   3XL|                  0|\n",
            "|    max|            128974|S02-9878098-5959538|06-29-22| Shipping|    Non-Amazon|SET462|SET462-KR-NP-S|   kurta|   XXL|                 15|\n",
            "+-------+------------------+-------------------+--------+---------+--------------+------+--------------+--------+------+-------------------+\n",
            "\n"
          ]
        }
      ]
    },
    {
      "cell_type": "markdown",
      "source": [
        "#Analyze Peak periods with highest sales of the year"
      ],
      "metadata": {
        "id": "38BDHZHSb4xe"
      }
    },
    {
      "cell_type": "markdown",
      "source": [
        "##Convert the `Date` column to timestamp datatype format `MM-dd-yyyy`"
      ],
      "metadata": {
        "id": "Uew4fxu4yfQX"
      }
    },
    {
      "cell_type": "code",
      "source": [
        "# Covert to Pandas Dataframe.\n",
        "high_report = sales_report\n",
        "high_report_pd = high_report.toPandas()"
      ],
      "metadata": {
        "id": "fETlp3kmyoSa"
      },
      "execution_count": null,
      "outputs": []
    },
    {
      "cell_type": "code",
      "source": [
        "# Convert the Date column to a datetime dtype New_date column.\n",
        "high_report_pd[\"New_date\"] = pd.to_datetime(high_report_pd[\"Date\"])"
      ],
      "metadata": {
        "id": "o-ryYZEyyuNQ"
      },
      "execution_count": null,
      "outputs": []
    },
    {
      "cell_type": "code",
      "source": [
        "# Convert the Pandas Data Frame to Spark Data Frame.\n",
        "high_report = spark.createDataFrame(high_report_pd)\n",
        "high_report.printSchema"
      ],
      "metadata": {
        "colab": {
          "base_uri": "https://localhost:8080/"
        },
        "outputId": "533ff823-018a-4c98-a6d5-1f9f21e3228d",
        "id": "0d-Vhldfy0Ch"
      },
      "execution_count": null,
      "outputs": [
        {
          "output_type": "stream",
          "name": "stderr",
          "text": [
            "/usr/local/lib/python3.10/dist-packages/pyspark/sql/pandas/conversion.py:331: FutureWarning: iteritems is deprecated and will be removed in a future version. Use .items instead.\n",
            "  for column, series in pdf.iteritems():\n"
          ]
        },
        {
          "output_type": "execute_result",
          "data": {
            "text/plain": [
              "<bound method DataFrame.printSchema of DataFrame[index: bigint, Order ID: string, Date: string, Status: string, Sales Channel : string, Style: string, SKU: string, Category: string, Size: string, Qty: bigint, New_date: timestamp]>"
            ]
          },
          "metadata": {},
          "execution_count": 17
        }
      ]
    },
    {
      "cell_type": "code",
      "source": [
        "# Create a new column called order_month use the month function to extract the month of the date column.\n",
        "high_report = high_report.withColumn(\"order_month\",\n",
        "                                     f.month(high_report[\"New_date\"]))\n",
        "high_report.show()"
      ],
      "metadata": {
        "id": "BpZW4oqKTh3s",
        "colab": {
          "base_uri": "https://localhost:8080/"
        },
        "outputId": "d0b1a414-0c4a-4594-8b1c-7cb42f089621"
      },
      "execution_count": null,
      "outputs": [
        {
          "output_type": "stream",
          "name": "stdout",
          "text": [
            "+-----+-------------------+--------+--------------------+--------------+--------+-------------------+-------------+----+---+-------------------+-----------+\n",
            "|index|           Order ID|    Date|              Status|Sales Channel |   Style|                SKU|     Category|Size|Qty|           New_date|order_month|\n",
            "+-----+-------------------+--------+--------------------+--------------+--------+-------------------+-------------+----+---+-------------------+-----------+\n",
            "|    0|405-8078784-5731545|04-30-22|           Cancelled|     Amazon.in|  SET389|     SET389-KR-NP-S|          Set|   S|  0|2022-04-30 00:00:00|          4|\n",
            "|    1|171-9198151-1101146|04-30-22|Shipped - Deliver...|     Amazon.in| JNE3781|    JNE3781-KR-XXXL|        kurta| 3XL|  1|2022-04-30 00:00:00|          4|\n",
            "|    2|404-0687676-7273146|04-30-22|             Shipped|     Amazon.in| JNE3371|      JNE3371-KR-XL|        kurta|  XL|  1|2022-04-30 00:00:00|          4|\n",
            "|    3|403-9615377-8133951|04-30-22|           Cancelled|     Amazon.in|   J0341|         J0341-DR-L|Western Dress|   L|  0|2022-04-30 00:00:00|          4|\n",
            "|    4|407-1069790-7240320|04-30-22|             Shipped|     Amazon.in| JNE3671|    JNE3671-TU-XXXL|          Top| 3XL|  1|2022-04-30 00:00:00|          4|\n",
            "|    5|404-1490984-4578765|04-30-22|             Shipped|     Amazon.in|  SET264|    SET264-KR-NP-XL|          Set|  XL|  1|2022-04-30 00:00:00|          4|\n",
            "|    6|408-5748499-6859555|04-30-22|             Shipped|     Amazon.in|   J0095|        J0095-SET-L|          Set|   L|  1|2022-04-30 00:00:00|          4|\n",
            "|    7|406-7807733-3785945|04-30-22|Shipped - Deliver...|     Amazon.in| JNE3405|       JNE3405-KR-S|        kurta|   S|  1|2022-04-30 00:00:00|          4|\n",
            "|    8|407-5443024-5233168|04-30-22|           Cancelled|     Amazon.in|  SET200|SET200-KR-NP-A-XXXL|          Set| 3XL|  0|2022-04-30 00:00:00|          4|\n",
            "|    9|402-4393761-0311520|04-30-22|             Shipped|     Amazon.in| JNE3461|     JNE3461-KR-XXL|        kurta| XXL|  1|2022-04-30 00:00:00|          4|\n",
            "|   10|407-5633625-6970741|04-30-22|             Shipped|     Amazon.in| JNE3160|     JNE3160-KR-G-S|        kurta|   S|  1|2022-04-30 00:00:00|          4|\n",
            "|   11|171-4638481-6326716|04-30-22|             Shipped|     Amazon.in| JNE3500|      JNE3500-KR-XS|        kurta|  XS|  1|2022-04-30 00:00:00|          4|\n",
            "|   12|405-5513694-8146768|04-30-22|Shipped - Deliver...|     Amazon.in| JNE3405|      JNE3405-KR-XS|        kurta|  XS|  1|2022-04-30 00:00:00|          4|\n",
            "|   13|408-7955685-3083534|04-30-22|             Shipped|     Amazon.in|  SET182|    SET182-KR-DH-XS|          Set|  XS|  1|2022-04-30 00:00:00|          4|\n",
            "|   14|408-1298370-1920302|04-30-22|Shipped - Deliver...|     Amazon.in|   J0351|        J0351-SET-L|          Set|   L|  1|2022-04-30 00:00:00|          4|\n",
            "|   15|403-4965581-9520319|04-30-22|Shipped - Deliver...|     Amazon.in|PJNE3368|    PJNE3368-KR-6XL|        kurta| 6XL|  1|2022-04-30 00:00:00|          4|\n",
            "|   16|406-9379318-6555504|04-30-22|             Shipped|     Amazon.in| JNE3721|     JNE3721-KR-XXL|        kurta| XXL|  1|2022-04-30 00:00:00|          4|\n",
            "|   17|405-9013803-8009918|04-30-22|             Shipped|     Amazon.in| JNE3405|      JNE3405-KR-XL|        kurta|  XL|  1|2022-04-30 00:00:00|          4|\n",
            "|   18|402-4030358-5835511|04-30-22|Shipped - Deliver...|     Amazon.in| JNE3697|     JNE3697-KR-XXL|        kurta| XXL|  1|2022-04-30 00:00:00|          4|\n",
            "|   19|405-5957858-1051546|04-30-22|             Shipped|     Amazon.in|  SET254|    SET254-KR-NP-XS|          Set|  XS|  1|2022-04-30 00:00:00|          4|\n",
            "+-----+-------------------+--------+--------------------+--------------+--------+-------------------+-------------+----+---+-------------------+-----------+\n",
            "only showing top 20 rows\n",
            "\n"
          ]
        }
      ]
    },
    {
      "cell_type": "markdown",
      "source": [
        "##Best products revenue"
      ],
      "metadata": {
        "id": "UO_VoouNyztZ"
      }
    },
    {
      "cell_type": "code",
      "source": [
        "# Group the data by SKU and calculate the sum of Qty.\n",
        "best_items = high_report.groupBy(\"SKU\").sum(\"Qty\")"
      ],
      "metadata": {
        "id": "nyg0yWRsv4lo"
      },
      "execution_count": null,
      "outputs": []
    },
    {
      "cell_type": "code",
      "source": [
        "# Join Inner product_price to best_revenue dataframe\n",
        "best_revenue = best_items.join(product_price,\n",
        "                               on=[\"SKU\"], how=\"inner\")\n",
        "best_revenue.show()\n",
        "best_revenue.count()"
      ],
      "metadata": {
        "colab": {
          "base_uri": "https://localhost:8080/"
        },
        "id": "Y29PUznlwH6K",
        "outputId": "d6a91b11-bad3-401a-9662-5b1083283612"
      },
      "execution_count": null,
      "outputs": [
        {
          "output_type": "stream",
          "name": "stdout",
          "text": [
            "+----------------+--------+-----+----------+-----+----------+----+-----------+------+\n",
            "|             SKU|sum(Qty)|index|Design No.|Stock|  Category|Size|      Color|Amount|\n",
            "+----------------+--------+-----+----------+-----+----------+----+-----------+------+\n",
            "|   MEN5021-KR-XL|      26| 6877|   MEN5021|  6.0|     KURTA|  XL|     Orange|   764|\n",
            "|JNE1998-KR-311-S|       4| 3344|   JNE1998| 54.0|     KURTA|   S| Multicolor|   295|\n",
            "| SET293-KR-NP-XL|      53| 8422|    SET293|  4.0| KURTA SET|  XL|       Blue|   702|\n",
            "|  SET374-KR-NP-M|      85| 8900|    SET374| 41.0|       SET|   M|    Mustard|   666|\n",
            "|  SET145-KR-NP-L|      28| 7671|    SET145|  4.0| KURTA SET|   L|       Blue|   774|\n",
            "|  SET339-KR-NP-S|      19| 8698|    SET339|  8.0|       SET|   S|     Maroon|   736|\n",
            "|      J0094-KR-L|       6| 1089|     J0094|  4.0|     KURTA|   L|       Blue|   568|\n",
            "|          SAR066|       2| 7294|    SAR066|  0.0|     SAREE|FREE|       Teal|   667|\n",
            "|   JNE3790-KR-XL|       8| 6031|   JNE3790| 12.0|     KURTA|  XL|  Navy Blue|   301|\n",
            "|     J0004-SKD-M|      18|  624|     J0004| 61.0| KURTA SET|   M|       Grey|  1115|\n",
            "|    J0213-TP-XXL|      17| 1878|     J0213|  9.0|       TOP| XXL|    Mustard|   599|\n",
            "|   J0346-SET-XXL|      10| 2571|     J0346| 28.0|       SET| XXL|      Cream|   464|\n",
            "| SET194-KR-NP-XL|       4| 7834|    SET194| 27.0| KURTA SET|  XL|    Mustard|   641|\n",
            "| SET317-KR-PP-XL|       9| 8548|    SET317| 18.0| KURTA SET|  XL|Olive Green|  1199|\n",
            "|    JNE3484-KR-M|      21| 4404|   JNE3484| 32.0|     KURTA|   M|      Olive|   301|\n",
            "| SET131-KR-NP-XL|       3| 7627|    SET131| 12.0| KURTA SET|  XL|       Blue|   666|\n",
            "|  JNE3671-TU-XXL|      13| 5335|   JNE3671|  3.0|     TUNIC| XXL|       Pink|   826|\n",
            "|   NW007-ST-CP-L|       2| 6988|     NW007| 23.0|NIGHT WEAR|   L|      White|   537|\n",
            "|   JNE3488-KR-XS|       7| 4435|   JNE3488|  7.0|     KURTA|  XS|      White|   301|\n",
            "|  SET197-KR-NP-S|      35| 7854|    SET197|196.0| KURTA SET|   S|    Mustard|   759|\n",
            "+----------------+--------+-----+----------+-----+----------+----+-----------+------+\n",
            "only showing top 20 rows\n",
            "\n"
          ]
        },
        {
          "output_type": "execute_result",
          "data": {
            "text/plain": [
              "6214"
            ]
          },
          "metadata": {},
          "execution_count": 21
        }
      ]
    },
    {
      "cell_type": "code",
      "source": [
        "# Save best_revenue format csv to bucket\n",
        "best_revenue.coalesce(1).write.csv('best_revenue', header = True)"
      ],
      "metadata": {
        "id": "eyYZGw_B457u"
      },
      "execution_count": null,
      "outputs": []
    },
    {
      "cell_type": "markdown",
      "source": [
        "## Peak sales time of this quarter"
      ],
      "metadata": {
        "id": "CF1ofreD56GW"
      }
    },
    {
      "cell_type": "code",
      "source": [
        "# Group the data by order_month and calculate the sum of quantity.\n",
        "monthly_sales = high_report.groupBy(\"order_month\").sum(\"Qty\")\n",
        "monthly_sales = monthly_sales.sort(\"order_month\", ascending=True)\n",
        "monthly_sales.show()"
      ],
      "metadata": {
        "colab": {
          "base_uri": "https://localhost:8080/"
        },
        "id": "LyM7qdWFZV4-",
        "outputId": "ee9adb74-3ae3-46a4-93c8-17c5d4fbcd2a"
      },
      "execution_count": null,
      "outputs": [
        {
          "output_type": "stream",
          "name": "stdout",
          "text": [
            "+-----------+--------+\n",
            "|order_month|sum(Qty)|\n",
            "+-----------+--------+\n",
            "|          3|     156|\n",
            "|          4|   44206|\n",
            "|          5|   37926|\n",
            "|          6|     927|\n",
            "+-----------+--------+\n",
            "\n"
          ]
        }
      ]
    },
    {
      "cell_type": "code",
      "source": [
        "# Save monthly_sales format csv to bucket\n",
        "monthly_sales.coalesce(1).write.csv('monthly_sales', header = True)"
      ],
      "metadata": {
        "id": "TJrmHFK6exP-"
      },
      "execution_count": null,
      "outputs": []
    },
    {
      "cell_type": "markdown",
      "source": [
        "#Analyze Excess Inventory Value"
      ],
      "metadata": {
        "id": "Eylvj9UMtl73"
      }
    },
    {
      "cell_type": "code",
      "source": [
        "# Filter the sum(Qty) column is equal to 0 and display the SKU column.\n",
        "worst_list = worst_items.where(worst_items[\"sum(Qty)\"] == 0).select(\"SKU\")\n",
        "worst_list.show()\n",
        "worst_list.count()"
      ],
      "metadata": {
        "colab": {
          "base_uri": "https://localhost:8080/"
        },
        "id": "AXB6-z1qvLQ-",
        "outputId": "af5dd17b-d184-4d53-fd6c-4cfa18f9cb76"
      },
      "execution_count": null,
      "outputs": [
        {
          "output_type": "stream",
          "name": "stdout",
          "text": [
            "+-----------------+\n",
            "|              SKU|\n",
            "+-----------------+\n",
            "| NW032-ST-CP-XXXL|\n",
            "|    JNE3284-KR-XL|\n",
            "|     BTM002-B-XXL|\n",
            "|      J0155-KR-XS|\n",
            "|PSET058-KR-NP-6XL|\n",
            "|         BL091-XL|\n",
            "|    JNE3557-KR-XL|\n",
            "|     JNE3359-KR-L|\n",
            "| SET043-KR-NP-XXL|\n",
            "|   J0137-SET-XXXL|\n",
            "|      BTM046-PP-M|\n",
            "|      J0086-DR-XL|\n",
            "|  NW002-TP-PJ-XXL|\n",
            "|  AN204-PURPLE-XL|\n",
            "|      J0053-KR-XS|\n",
            "|    JNE3602-KR-XS|\n",
            "|   SET055-KR-NP-S|\n",
            "|       J0292-TP-L|\n",
            "|      J0162-SKD-M|\n",
            "|   SET235-KR-PP-S|\n",
            "+-----------------+\n",
            "only showing top 20 rows\n",
            "\n"
          ]
        },
        {
          "output_type": "execute_result",
          "data": {
            "text/plain": [
              "59"
            ]
          },
          "metadata": {},
          "execution_count": 25
        }
      ]
    },
    {
      "cell_type": "code",
      "source": [
        "worst_list.take(54)"
      ],
      "metadata": {
        "colab": {
          "base_uri": "https://localhost:8080/"
        },
        "id": "MfpLwCqG2IVJ",
        "outputId": "bb9f8fbe-36c5-47e6-c0c8-1fc39bdcf77c"
      },
      "execution_count": null,
      "outputs": [
        {
          "output_type": "execute_result",
          "data": {
            "text/plain": [
              "[Row(SKU='SET247-KR-SHA-XXXL'),\n",
              " Row(SKU='J0374-KR-M'),\n",
              " Row(SKU='JNE3284-KR-XL'),\n",
              " Row(SKU='JNE3403-KR-XXL'),\n",
              " Row(SKU='J0109-SKD-XS'),\n",
              " Row(SKU='JNE2145-KR-A-L'),\n",
              " Row(SKU='BTM002-B-XXL'),\n",
              " Row(SKU='J0155-KR-XS'),\n",
              " Row(SKU='PSET058-KR-NP-6XL'),\n",
              " Row(SKU='BL091-XL'),\n",
              " Row(SKU='JNE3557-KR-XL'),\n",
              " Row(SKU='SET043-KR-NP-XXL'),\n",
              " Row(SKU='J0086-DR-XL'),\n",
              " Row(SKU='SAR060'),\n",
              " Row(SKU='JNE3423-KR-A-S'),\n",
              " Row(SKU='AN204-PURPLE-XL'),\n",
              " Row(SKU='JNE3897-KR-M'),\n",
              " Row(SKU='J0292-TP-L'),\n",
              " Row(SKU='SET235-KR-PP-S'),\n",
              " Row(SKU='JNE3447-KR-XL'),\n",
              " Row(SKU='AN210-NAVY-M'),\n",
              " Row(SKU='BL104-XL'),\n",
              " Row(SKU='JNE2294-KR-A-XS'),\n",
              " Row(SKU='SAR182'),\n",
              " Row(SKU='BL100-XXL'),\n",
              " Row(SKU='J0080-TP-L'),\n",
              " Row(SKU='J0073-KR-S'),\n",
              " Row(SKU='J0184-KR-A-L'),\n",
              " Row(SKU='JNE3891-TP-XXL'),\n",
              " Row(SKU='J0302-DR-XL'),\n",
              " Row(SKU='SET199-KR-NP-XS'),\n",
              " Row(SKU='J0057-DR-XXXL'),\n",
              " Row(SKU='J0122-TP-L'),\n",
              " Row(SKU='J0173-DR-XL'),\n",
              " Row(SKU='JNE3364-KR-1051-XS'),\n",
              " Row(SKU='JNE3483-KR-M'),\n",
              " Row(SKU='SAR166'),\n",
              " Row(SKU='SET083-KR-PP-L'),\n",
              " Row(SKU='JNE3780-KR-XS'),\n",
              " Row(SKU='BTM027-NP-L'),\n",
              " Row(SKU='BTM032-NP-M'),\n",
              " Row(SKU='J0250-SKD-XS'),\n",
              " Row(SKU='J0034-SET-S'),\n",
              " Row(SKU='J0024-KR-XXXL'),\n",
              " Row(SKU='JNE3663-TP-M'),\n",
              " Row(SKU='J0323-CD-M'),\n",
              " Row(SKU='JNE3438-KR-M'),\n",
              " Row(SKU='SET226-KR-PP-L'),\n",
              " Row(SKU='JNE3825-KR-L'),\n",
              " Row(SKU='SET271-KR-NP-XL'),\n",
              " Row(SKU='JNE3662-TP-M'),\n",
              " Row(SKU='JNE3909-KR-L'),\n",
              " Row(SKU='SET034-KR-NP-XS')]"
            ]
          },
          "metadata": {},
          "execution_count": 47
        }
      ]
    },
    {
      "cell_type": "code",
      "source": [
        "# Matching rows in product_price that have a same value of the SKU column\n",
        "worst_list_price = worst_list.join(product_price,\n",
        "                                   on=[\"SKU\"], how=\"inner\")\n",
        "worst_list_price.show()"
      ],
      "metadata": {
        "colab": {
          "base_uri": "https://localhost:8080/"
        },
        "id": "_6KxeW4m7eqX",
        "outputId": "47ac6925-d815-4a38-8e85-2851110b064d"
      },
      "execution_count": null,
      "outputs": [
        {
          "output_type": "stream",
          "name": "stdout",
          "text": [
            "+-----------------+-----+----------+-----+-------------+----+--------------+------+\n",
            "|              SKU|index|Design No.|Stock|     Category|Size|         Color|Amount|\n",
            "+-----------------+-----+----------+-----+-------------+----+--------------+------+\n",
            "| NW032-ST-CP-XXXL| 7113|     NW032|  7.0|   NIGHT WEAR|XXXL|         White|   992|\n",
            "|    JNE3284-KR-XL| 3647|   JNE3284|  4.0|        KURTA|  XL|         Peach|   308|\n",
            "|      J0155-KR-XS| 1500|     J0155| 62.0|        KURTA|  XS|         Green|   292|\n",
            "|PSET058-KR-NP-6XL| 7243|   PSET058|  0.0|          SET| 6XL|          Teal|  1216|\n",
            "|         BL091-XL|  164|     BL091|  3.0|       BLOUSE|  XL|    Multicolor|   292|\n",
            "|    JNE3557-KR-XL| 4735|   JNE3557| 36.0|        KURTA|  XL|         Black|   292|\n",
            "|     JNE3359-KR-L| 3746|   JNE3359|  7.0|        KURTA|   L|          Grey|   390|\n",
            "| SET043-KR-NP-XXL| 7446|    SET043| 60.0|    KURTA SET| XXL|Turquoise Blue|   292|\n",
            "|   J0137-SET-XXXL| 1377|     J0137| 12.0|    KURTA SET|XXXL|         White|   721|\n",
            "|      BTM046-PP-M|  456|    BTM046| 10.0|      PALAZZO|   M|     Navy Blue|     0|\n",
            "|      J0086-DR-XL| 1036|     J0086|  1.0|        DRESS|  XL|   Light Green|   292|\n",
            "|  NW002-TP-PJ-XXL| 6958|     NW002| 26.0|   NIGHT WEAR| XXL|Turquoise Blue|   441|\n",
            "|  AN204-PURPLE-XL|   18|     AN204|  3.0|AN : LEGGINGS|  XL|        Purple|   306|\n",
            "|    JNE3602-KR-XS| 4899|   JNE3602| 22.0|        KURTA|  XS|          Pink|   376|\n",
            "|   SET055-KR-NP-S| 7477|    SET055|  5.0|    KURTA SET|   S|          Pink|   598|\n",
            "|       J0292-TP-L| 2253|     J0292|  2.0|          TOP|   L|     OFF WHITE|   342|\n",
            "|      J0162-SKD-M| 1539|     J0162| 40.0|    KURTA SET|   M|       Mustard|   999|\n",
            "|   SET235-KR-PP-S| 8073|    SET235|  1.0|    KURTA SET|   S|         Beige|   498|\n",
            "|      J0163-SKD-L| 1545|     J0163|143.0|    KURTA SET|   L|           Red|   999|\n",
            "|    JNE3447-KR-XL| 4170|   JNE3447|  0.0|        KURTA|  XL|         Beige|   292|\n",
            "+-----------------+-----+----------+-----+-------------+----+--------------+------+\n",
            "only showing top 20 rows\n",
            "\n"
          ]
        }
      ]
    },
    {
      "cell_type": "markdown",
      "source": [
        "##Convert the `Stock` column to Integer datatype"
      ],
      "metadata": {
        "id": "bZVZYmzuKROm"
      }
    },
    {
      "cell_type": "code",
      "source": [
        "worst_list_price.printSchema()"
      ],
      "metadata": {
        "colab": {
          "base_uri": "https://localhost:8080/"
        },
        "id": "IXXaUlDPIaaE",
        "outputId": "48b64123-997a-4c7b-b4e8-7349dd31283d"
      },
      "execution_count": null,
      "outputs": [
        {
          "output_type": "stream",
          "name": "stdout",
          "text": [
            "root\n",
            " |-- SKU: string (nullable = true)\n",
            " |-- index: integer (nullable = true)\n",
            " |-- Design No.: string (nullable = true)\n",
            " |-- Stock: double (nullable = true)\n",
            " |-- Category: string (nullable = true)\n",
            " |-- Size: string (nullable = true)\n",
            " |-- Color: string (nullable = true)\n",
            " |-- Amount: integer (nullable = true)\n",
            "\n"
          ]
        }
      ]
    },
    {
      "cell_type": "code",
      "source": [
        "# Convert the Stock column to integer.\n",
        "worst_list_price = worst_list_price.withColumn(\"Stock\", worst_list_price[\"Stock\"].cast(\"Integer\"))\n",
        "worst_list_price.printSchema()"
      ],
      "metadata": {
        "colab": {
          "base_uri": "https://localhost:8080/"
        },
        "id": "gY5oaG74JlqP",
        "outputId": "f68ea9e6-17be-4e0d-e6b8-3e24dc264743"
      },
      "execution_count": null,
      "outputs": [
        {
          "output_type": "stream",
          "name": "stdout",
          "text": [
            "root\n",
            " |-- SKU: string (nullable = true)\n",
            " |-- index: integer (nullable = true)\n",
            " |-- Design No.: string (nullable = true)\n",
            " |-- Stock: integer (nullable = true)\n",
            " |-- Category: string (nullable = true)\n",
            " |-- Size: string (nullable = true)\n",
            " |-- Color: string (nullable = true)\n",
            " |-- Amount: integer (nullable = true)\n",
            "\n"
          ]
        }
      ]
    },
    {
      "cell_type": "code",
      "source": [
        "# Calculate the total value of the product and put it in the total column.\n",
        "worst_list_price = worst_list_price.withColumn(\"Inventory_value\", worst_list_price[\"Stock\"] * worst_list_price[\"Amount\"])\n",
        "worst_list_price.show()"
      ],
      "metadata": {
        "colab": {
          "base_uri": "https://localhost:8080/"
        },
        "id": "-hkcKnqXTEOq",
        "outputId": "ba19b290-52ef-458f-81ce-50851e892e52"
      },
      "execution_count": null,
      "outputs": [
        {
          "output_type": "stream",
          "name": "stdout",
          "text": [
            "+-----------------+-----+----------+-----+-------------+----+--------------+------+---------------+\n",
            "|              SKU|index|Design No.|Stock|     Category|Size|         Color|Amount|Inventory_value|\n",
            "+-----------------+-----+----------+-----+-------------+----+--------------+------+---------------+\n",
            "| NW032-ST-CP-XXXL| 7113|     NW032|    7|   NIGHT WEAR|XXXL|         White|   992|           6944|\n",
            "|    JNE3284-KR-XL| 3647|   JNE3284|    4|        KURTA|  XL|         Peach|   308|           1232|\n",
            "|      J0155-KR-XS| 1500|     J0155|   62|        KURTA|  XS|         Green|   292|          18104|\n",
            "|PSET058-KR-NP-6XL| 7243|   PSET058|    0|          SET| 6XL|          Teal|  1216|              0|\n",
            "|         BL091-XL|  164|     BL091|    3|       BLOUSE|  XL|    Multicolor|   292|            876|\n",
            "|    JNE3557-KR-XL| 4735|   JNE3557|   36|        KURTA|  XL|         Black|   292|          10512|\n",
            "|     JNE3359-KR-L| 3746|   JNE3359|    7|        KURTA|   L|          Grey|   390|           2730|\n",
            "| SET043-KR-NP-XXL| 7446|    SET043|   60|    KURTA SET| XXL|Turquoise Blue|   292|          17520|\n",
            "|   J0137-SET-XXXL| 1377|     J0137|   12|    KURTA SET|XXXL|         White|   721|           8652|\n",
            "|      BTM046-PP-M|  456|    BTM046|   10|      PALAZZO|   M|     Navy Blue|     0|              0|\n",
            "|      J0086-DR-XL| 1036|     J0086|    1|        DRESS|  XL|   Light Green|   292|            292|\n",
            "|  NW002-TP-PJ-XXL| 6958|     NW002|   26|   NIGHT WEAR| XXL|Turquoise Blue|   441|          11466|\n",
            "|  AN204-PURPLE-XL|   18|     AN204|    3|AN : LEGGINGS|  XL|        Purple|   306|            918|\n",
            "|    JNE3602-KR-XS| 4899|   JNE3602|   22|        KURTA|  XS|          Pink|   376|           8272|\n",
            "|   SET055-KR-NP-S| 7477|    SET055|    5|    KURTA SET|   S|          Pink|   598|           2990|\n",
            "|       J0292-TP-L| 2253|     J0292|    2|          TOP|   L|     OFF WHITE|   342|            684|\n",
            "|      J0162-SKD-M| 1539|     J0162|   40|    KURTA SET|   M|       Mustard|   999|          39960|\n",
            "|   SET235-KR-PP-S| 8073|    SET235|    1|    KURTA SET|   S|         Beige|   498|            498|\n",
            "|      J0163-SKD-L| 1545|     J0163|  143|    KURTA SET|   L|           Red|   999|         142857|\n",
            "|    JNE3447-KR-XL| 4170|   JNE3447|    0|        KURTA|  XL|         Beige|   292|              0|\n",
            "+-----------------+-----+----------+-----+-------------+----+--------------+------+---------------+\n",
            "only showing top 20 rows\n",
            "\n"
          ]
        }
      ]
    },
    {
      "cell_type": "code",
      "source": [
        "# Save Inventory_Value format csv to bucket\n",
        "worst_list_price.coalesce(1).write.csv('Inventory_Value', header = True)"
      ],
      "metadata": {
        "id": "GLFcdIbsfk6K"
      },
      "execution_count": null,
      "outputs": []
    }
  ]
}